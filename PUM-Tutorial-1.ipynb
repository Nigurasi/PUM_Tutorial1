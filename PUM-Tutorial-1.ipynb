{
 "cells": [
  {
   "cell_type": "markdown",
   "metadata": {},
   "source": [
    "<h2>Podstawy Uczenia Maszynowego Laboratorium 1</h2>\n",
    "\n",
    "Anna Alberska, Klaudia Knafel"
   ]
  },
  {
   "cell_type": "markdown",
   "metadata": {},
   "source": [
    "<h3><b>0. Instalacja pakietów</b></h3>\n",
    "\n",
    "`pip install scikit-learn`\n",
    "\n",
    "`pip install numpy`\n",
    "\n",
    "`pip install matplotlib`\n",
    "\n",
    "`pip install nltk`\n"
   ]
  },
  {
   "cell_type": "code",
   "execution_count": 38,
   "metadata": {
    "collapsed": true
   },
   "outputs": [],
   "source": [
    "import matplotlib.pyplot as plt\n",
    "import numpy as np\n",
    "import sklearn\n",
    "import nltk"
   ]
  },
  {
   "cell_type": "markdown",
   "metadata": {},
   "source": [
    "<h3><b>1. Przygotowanie zbioru danych</b></h3>\n",
    "\n",
    "Dostępne zbiory danych: https://archive.ics.uci.edu/ml/datasets.html\n",
    "\n",
    "\n",
    "- MNIST:\n",
    "  - Ściągnięcie z internetu: http://yann.lecun.com/exdb/mnist/ , https://www.openml.org/d/554\n",
    "  - Załadowanie/Ściągnięcie z pomocą frameworka np.:"
   ]
  },
  {
   "cell_type": "code",
   "execution_count": 39,
   "metadata": {},
   "outputs": [
    {
     "name": "stdout",
     "output_type": "stream",
     "text": [
      "Ilość danych: 70000\n"
     ]
    }
   ],
   "source": [
    "# Ściągnięcie mnista z openml\n",
    "from sklearn.datasets import fetch_openml\n",
    "X, y = fetch_openml('mnist_784', version=1, return_X_y=True)\n",
    "print(\"Ilość danych: \" + str(len(X)))"
   ]
  },
  {
   "cell_type": "code",
   "execution_count": 40,
   "metadata": {},
   "outputs": [
    {
     "data": {
      "image/png": "[encoded data removed]",
      "text/plain": [
       "<matplotlib.figure.Figure at 0x1fd810dedd8>"
      ]
     },
     "metadata": {},
     "output_type": "display_data"
    }
   ],
   "source": [
    "def display_random_MNIST_data(X, y):\n",
    "    rand_index = np.random.randint(len(X))\n",
    "    image = np.reshape(X[rand_index], (28, 28))\n",
    "    plt.axis('off')\n",
    "    plt.imshow(image, cmap=plt.cm.gray, interpolation='nearest')\n",
    "    plt.title('Przykładowa cyfra: ' + y[rand_index])\n",
    "    plt.show()\n",
    "\n",
    "display_random_MNIST_data(X, y)"
   ]
  },
  {
   "cell_type": "markdown",
   "metadata": {},
   "source": [
    "<b>Zbiory treningowy, testowy, walidujący</b>\n",
    "\n",
    "- Treningowy - do trenowania modelu\n",
    "- Testowy - dane, których model nie zna(nie pojawiły się podczas trenowania) służące do testowania modelu\n",
    "- Walidujący - (opcjonalny)dodatkowy zbiór, służący do dostosowywania hyperparametrów\n",
    "\n",
    "Więcej na: https://en.wikipedia.org/wiki/Training,_test,_and_validation_sets\n",
    "\n",
    "Scikit-learn docs: http://scikit-learn.org/stable/modules/generated/sklearn.model_selection.train_test_split.html#sklearn.model_selection.train_test_split "
   ]
  },
  {
   "cell_type": "code",
   "execution_count": 41,
   "metadata": {},
   "outputs": [
    {
     "name": "stdout",
     "output_type": "stream",
     "text": [
      "Ilość danych treningowych: 5000\n",
      "Ilość danych treningowych: 2000\n",
      "\n",
      "Losowa cyfra z danych treningowych: \n"
     ]
    },
    {
     "data": {
      "image/png": "[encoded data removed]",
      "text/plain": [
       "<matplotlib.figure.Figure at 0x1fd810b7b00>"
      ]
     },
     "metadata": {},
     "output_type": "display_data"
    },
    {
     "name": "stdout",
     "output_type": "stream",
     "text": [
      "Losowa cyfra z danych testowych: \n"
     ]
    },
    {
     "data": {
      "image/png": "[encoded data removed]",
      "text/plain": [
       "<matplotlib.figure.Figure at 0x1fd80e09b00>"
      ]
     },
     "metadata": {},
     "output_type": "display_data"
    }
   ],
   "source": [
    "from sklearn.model_selection import train_test_split\n",
    "X_train, X_test, y_train, y_test = train_test_split(X, y, train_size=5000, test_size=2000)\n",
    "print(\"Ilość danych treningowych: \" + str(len(X_train)))\n",
    "print(\"Ilość danych treningowych: \" + str(len(X_test)))\n",
    "print()\n",
    "\n",
    "print(\"Losowa cyfra z danych treningowych: \")\n",
    "display_random_MNIST_data(X_train, y_train)\n",
    "\n",
    "print(\"Losowa cyfra z danych testowych: \")\n",
    "display_random_MNIST_data(X_train, y_train)"
   ]
  },
  {
   "cell_type": "markdown",
   "metadata": {},
   "source": [
    " - zbiór tekstowy\n",
    " \n",
    " \n",
    "Wykorzystany zbiór tekstowy dostępny w pakiecie scikit-learn. \n",
    " Zbiór danych z <b>20 newsgroups</b>.\n",
    " \n",
    "Szczegóły:\n",
    "- Classes\t20\n",
    "- Samples total\t18846\n",
    "- Dimensionality\t1\n",
    "- Features\ttext"
   ]
  },
  {
   "cell_type": "code",
   "execution_count": 42,
   "metadata": {},
   "outputs": [
    {
     "name": "stdout",
     "output_type": "stream",
     "text": [
      "From: joachim@kih.no (joachim lous)\n",
      "Subject: Re: XV for MS-DOS !!!\n",
      "Organization: Kongsberg Ingeniorhogskole\n",
      "Lines: 20\n",
      "NNTP-Posting-Host: samson.kih.no\n",
      "X-Newsreader: TIN [version 1.1 PL8]\n",
      "\n",
      "NOE-MAILADDRESS@eicn.etna.ch wrote:\n",
      "> I'm sorry for...\n",
      "\n",
      ">     1)  The late of the answer but I couldn't find xv221 for msdos 'cause \n",
      "> \tI forgot the address...but I've retrieve it..\n",
      "\n",
      ">     2)  Posting this answer here in comp.graphics 'cause I can't use e-mail,\n",
      ">    ^^^  not yet....\n",
      "\n",
      ">    2) My bad english 'cause I'm a Swiss and my language is french....\n",
      "    ^^^\n",
      "If french is your language, try counting in french in stead, maybe\n",
      "it will work better.... :-)\n",
      "\n",
      "    _______________________________\n",
      "   / _ L*   /  _  / .    /      _  /_  \"One thing is for sure: The sheep\n",
      "  /  _)    /()(/(/)//)) /_ ()(/_) / /  Is NOT a creature of the earth.\"\n",
      " / \\_)~  (/ Joachim@kih.no       / /     \n",
      "/_______________________________/ / -The back-masking on 'Haaden II'\n",
      " /_______________________________/  from 'Exposure' by Robert Fripp.\n",
      "\n",
      "Newsgroup: comp.graphics\n"
     ]
    }
   ],
   "source": [
    "from sklearn.datasets import fetch_20newsgroups\n",
    "\n",
    "categories = ['comp.graphics', 'sci.space'] # Jeśli dostępne wszystkie kategorie: categories=\"all\"\n",
    "twenty_news = fetch_20newsgroups(subset='train', shuffle=True, categories=categories)\n",
    "\n",
    "def display_random_newsgroup_data(data):\n",
    "    rand_index = np.random.randint(len(data.data))\n",
    "    print(data.data[rand_index])\n",
    "    print(\"Newsgroup: \" + data.target_names[data.target[rand_index]])\n",
    "    \n",
    "display_random_newsgroup_data(twenty_news)"
   ]
  },
  {
   "cell_type": "markdown",
   "metadata": {},
   "source": [
    "Podstawowe pojęcia przy przetwarzaniu zbioru tekstowego:\n",
    "- <b>Stopwords</b>: najpopularniejsze słowa w danym języku, nie mające wpływu na znaczenie danego zdania np.: the, a, an, him, her w języku angielskim.\n",
    "- <b>Tokenization</b>: rozbijanie tekstu na kolekcję tokenów, najczęściej słów.\n",
    "- <b>Stemming</b>: redukowanie danego słowa do jego formy źródłowej np.: looking -> look"
   ]
  },
  {
   "cell_type": "markdown",
   "metadata": {},
   "source": [
    "Scikit-learn wykorzystuje do przetwarzania tekstu klasy o nazwie Vectorizer. \n",
    "Dostępne Vectorizers:\n",
    "- [CountVectorizer](http://scikit-learn.org/stable/modules/generated/sklearn.feature_extraction.text.CountVectorizer.html#sklearn.feature_extraction.text.CountVectorizer): konwertuje kolekcję dokumentów na macierz zliczonych tokenów\n",
    "- [HashingVectorizer](http://scikit-learn.org/stable/modules/generated/sklearn.feature_extraction.text.HashingVectorizer.html#sklearn.feature_extraction.text.HashingVectorizer): konwertuje kolekcję dokumentów na macierz wystąpień tokenów\n",
    "- [TfidfTransformer](http://scikit-learn.org/stable/modules/generated/sklearn.feature_extraction.text.TfidfTransformer.html#sklearn.feature_extraction.text.TfidfTransformer): konwertuje obliczoną macierz na znormalizowaną tf lub tf-idf reprezentację (o tf-idf więcej niżej)\n",
    "- [TfidfVectorizer](http://scikit-learn.org/stable/modules/generated/sklearn.feature_extraction.text.TfidfVectorizer.html#sklearn.feature_extraction.text.TfidfVectorizer): konwertuje kolekcję dokumentów na macierz cech tf-idf."
   ]
  },
  {
   "cell_type": "code",
   "execution_count": 43,
   "metadata": {},
   "outputs": [
    {
     "name": "stdout",
     "output_type": "stream",
     "text": [
      "Ilość tokenów: 23882\n",
      "\n",
      "Przed konwersją:\n",
      "From: ab@nova.cc.purdue.edu (Allen B)\n",
      "Subject: Re: thining algorithm\n",
      "Organization: Purdue University\n",
      "Lines: 15\n",
      "\n",
      "In article <1q7615INNmi@shelley.u.washington.edu> kshin@stein.u.washington.edu  \n",
      "(Kevin Shin) writes:\n",
      "> I am trying obtain program to preprocess handwriting characters.\n",
      "> Like thining algorithm, graph alogrithm.\n",
      "> Do anyone know where I can obtain those?\n",
      "\n",
      "I usually use \"Algorithms for graphics and image processing\" by\n",
      "Theodosios Pavlidis, but other people here got them same idea and now\n",
      "3 of 4 copies in the libraries have been stolen!\n",
      "\n",
      "Another reference is \"Digital Image Processing\" by Gonzalez and\n",
      "Wintz/Wood, which is widely available but a little expensive ($55\n",
      "here- I just checked today).\n",
      "\n",
      "ab\n",
      "\n",
      "\n",
      "Po konwersji:\n",
      "[0 0 0 ... 0 0 0]\n"
     ]
    }
   ],
   "source": [
    "# Przykładowe wykorzystanie CountVectorizer(usunięcie znaków interpunkcyjnych + tokenizacja)\n",
    "from sklearn.feature_extraction.text import CountVectorizer\n",
    "\n",
    "vectorizer = CountVectorizer()\n",
    "transform = vectorizer.fit_transform(twenty_news.data)\n",
    "counts = transform.toarray()\n",
    "\n",
    "print(\"Ilość tokenów: \" + str(len(vectorizer.get_feature_names())))\n",
    "print()\n",
    "\n",
    "# Konwersja przykładowego dokumentu\n",
    "print(\"Przed konwersją:\")\n",
    "print(twenty_news.data[0])\n",
    "print()\n",
    "print(\"Po konwersji:\")\n",
    "print(counts[0])"
   ]
  },
  {
   "cell_type": "code",
   "execution_count": 44,
   "metadata": {},
   "outputs": [
    {
     "data": {
      "text/plain": [
       "True"
      ]
     },
     "execution_count": 44,
     "metadata": {},
     "output_type": "execute_result"
    }
   ],
   "source": [
    "\"is\" in vectorizer.get_feature_names()"
   ]
  },
  {
   "cell_type": "markdown",
   "metadata": {},
   "source": [
    "Do stemmingu wykorzystana klasa <b>SnowballStemmer</b> dostępna w <b>NLTK</b> (http://www.nltk.org/).\n",
    "\n",
    "Inne klasy dostępne w NLTK służące do stemmingu np.:\n",
    "- PorterStemmer\n",
    "- LancasterStemmer\n",
    "- itd.\n",
    "\n",
    "Dany stemmer różni się od innych pod względem przetwarzania danej rodziny słów."
   ]
  },
  {
   "cell_type": "code",
   "execution_count": 45,
   "metadata": {},
   "outputs": [
    {
     "name": "stdout",
     "output_type": "stream",
     "text": [
      "Zbiór stop words dostępny w scikit-learn: \n",
      "frozenset({'whoever', 'up', 'once', 'us', 'anyway', 'when', 'least', 'off', 'seemed', 'someone', 'always', 'de', 'too', 'twenty', 'will', 'if', 'well', 'anyhow', 'noone', 'himself', 'find', 'already', 'top', 'becoming', 'still', 'here', 'for', 'who', 'throughout', 'neither', 'while', 'ourselves', 'fill', 'very', 'both', 'thereafter', 'therefore', 'him', 'become', 'before', 'he', 'should', 'what', 'other', 'sincere', 'which', 'as', 'eg', 'any', 'first', 'hers', 'each', 'formerly', 'fifty', 'herself', 'interest', 'ours', 'otherwise', 'out', 'everyone', 'together', 'nor', 'being', 'anything', 'none', 'not', 'others', 'so', 'four', 'whose', 'ltd', 'same', 'sometimes', 'whereupon', 'this', 'an', 'side', 'would', 'eleven', 'thereby', 'show', 'his', 'seems', 'myself', 'after', 'upon', 'a', 'beyond', 'that', 'since', 'themselves', 'some', 'could', 'onto', 'describe', 'them', 'from', 'because', 'eight', 'cry', 'beforehand', 'somewhere', 'cant', 'although', 'again', 'around', 'several', 'two', 'via', 'but', 'of', 'was', 'how', 'about', 'hereafter', 'to', 'hundred', 'is', 'under', 'such', 'elsewhere', 'than', 'and', 'can', 'am', 'into', 'call', 'or', 'even', 'latter', 'front', 'perhaps', 'there', 'mill', 'she', 'were', 'do', 'much', 'hereby', 'whereafter', 'hasnt', 'yours', 'by', 'have', 'between', 'then', 'might', 'me', 'beside', 'forty', 'keep', 'whereby', 'everywhere', 'nobody', 'done', 'else', 'empty', 'everything', 'through', 'thus', 'amount', 'are', 'etc', 'down', 'move', 'give', 'inc', 'though', 'take', 'another', 'her', 'put', 'thence', 'however', 'no', 'among', 'ie', 'thereupon', 'third', 'whether', 'nine', 'their', 'within', 'mine', 'fire', 'mostly', 'part', 'been', 'where', 'amoungst', 'almost', 'made', 'see', 'afterwards', 'my', 'cannot', 'above', 'anywhere', 'many', 'except', 'i', 'never', 'detail', 'per', 'found', 'on', 'six', 'nowhere', 'un', 'thin', 'bottom', 'co', 'with', 'sometime', 'ten', 'more', 'those', 'may', 'twelve', 'the', 'without', 'against', 'in', 'next', 'you', 'fifteen', 'anyone', 'enough', 'whither', 'during', 'thru', 'whole', 'it', 'across', 'back', 'last', 'nevertheless', 'full', 'toward', 'hence', 'over', 'became', 'hereupon', 'therein', 'get', 'whom', 'now', 'go', 'meanwhile', 'below', 'whereas', 'either', 'its', 'whenever', 'becomes', 'ever', 'few', 'system', 'wherever', 'must', 're', 'your', 'whence', 'all', 'amongst', 'besides', 'herein', 'own', 'they', 'we', 'nothing', 'our', 'something', 'please', 'alone', 'had', 'yourself', 'be', 'every', 'serious', 'sixty', 'often', 'wherein', 'most', 'rather', 'somehow', 'three', 'namely', 'at', 'name', 'these', 'seem', 'itself', 'bill', 'con', 'indeed', 'behind', 'along', 'latterly', 'only', 'couldnt', 'thick', 'until', 'due', 'has', 'seeming', 'why', 'moreover', 'former', 'one', 'yet', 'further', 'whatever', 'towards', 'yourselves', 'also', 'less', 'five'})\n"
     ]
    }
   ],
   "source": [
    "# Wykorzystanie CountVectorizer: usunięcie znaków interpunkcyjnych, usunięcie stopwords, stemming, tokenizacja\n",
    "from sklearn.feature_extraction import stop_words\n",
    "\n",
    "print(\"Zbiór stop words dostępny w scikit-learn: \")\n",
    "print(stop_words.ENGLISH_STOP_WORDS)"
   ]
  },
  {
   "cell_type": "code",
   "execution_count": 46,
   "metadata": {},
   "outputs": [
    {
     "name": "stdout",
     "output_type": "stream",
     "text": [
      "Ilość tokenów: 18642\n",
      "\n",
      "Przed konwersją:\n",
      "From: ab@nova.cc.purdue.edu (Allen B)\n",
      "Subject: Re: thining algorithm\n",
      "Organization: Purdue University\n",
      "Lines: 15\n",
      "\n",
      "In article <1q7615INNmi@shelley.u.washington.edu> kshin@stein.u.washington.edu  \n",
      "(Kevin Shin) writes:\n",
      "> I am trying obtain program to preprocess handwriting characters.\n",
      "> Like thining algorithm, graph alogrithm.\n",
      "> Do anyone know where I can obtain those?\n",
      "\n",
      "I usually use \"Algorithms for graphics and image processing\" by\n",
      "Theodosios Pavlidis, but other people here got them same idea and now\n",
      "3 of 4 copies in the libraries have been stolen!\n",
      "\n",
      "Another reference is \"Digital Image Processing\" by Gonzalez and\n",
      "Wintz/Wood, which is widely available but a little expensive ($55\n",
      "here- I just checked today).\n",
      "\n",
      "ab\n",
      "\n",
      "\n",
      "Po konwersji:\n",
      "[0 0 0 ... 0 0 0]\n"
     ]
    }
   ],
   "source": [
    "analyzer = CountVectorizer( stop_words=stop_words.ENGLISH_STOP_WORDS).build_analyzer()\n",
    "stemmer = nltk.stem.SnowballStemmer('english')\n",
    "\n",
    "def stemmed_words(doc):\n",
    "    return (stemmer.stem(w) for w in analyzer(doc))\n",
    "\n",
    "stem_vectorizer = CountVectorizer(analyzer=stemmed_words)\n",
    "stem_transform = stem_vectorizer.fit_transform(twenty_news.data)\n",
    "stem_counts = stem_transform.toarray()\n",
    "\n",
    "print(\"Ilość tokenów: \" + str(len(stem_vectorizer.get_feature_names())))\n",
    "print()\n",
    "\n",
    "# Konwersja przykładowego dokumentu\n",
    "print(\"Przed konwersją:\")\n",
    "print(twenty_news.data[0])\n",
    "print()\n",
    "print(\"Po konwersji:\")\n",
    "print(stem_counts[0])"
   ]
  },
  {
   "cell_type": "code",
   "execution_count": 47,
   "metadata": {},
   "outputs": [
    {
     "data": {
      "text/plain": [
       "False"
      ]
     },
     "execution_count": 47,
     "metadata": {},
     "output_type": "execute_result"
    }
   ],
   "source": [
    "\"is\" in stem_vectorizer.get_feature_names()"
   ]
  },
  {
   "cell_type": "markdown",
   "metadata": {},
   "source": [
    "<b>Przetworzenie mniejszego zbioru tekstowego</b>\n",
    "\n",
    "Zbiór tekstowy dostępny pod linkiem: \n",
    "http://archive.ics.uci.edu/ml/datasets/Opinosis+Opinion+%26frasl%3B+Review"
   ]
  },
  {
   "cell_type": "code",
   "execution_count": 48,
   "metadata": {},
   "outputs": [
    {
     "name": "stdout",
     "output_type": "stream",
     "text": [
      "All in all I would definitly recommend this hotel to anyone wanting a pleasant stay in London, in a nice area, at a good price !\n"
     ]
    }
   ],
   "source": [
    "# Zaimportowanie datasetu zawierającego opinie\n",
    "# Target:0 - keyboard, 1 - price\n",
    "\n",
    "with open(\"keyboard_netbook_1005ha.txt.data\", \"r\") as f:\n",
    "    keyboard_data = f.readlines()\n",
    "    \n",
    "keyboard_data = [s.split(\"\\n\")[0] for s in keyboard_data]\n",
    "keyboard_target = [0] * len(keyboard_data) \n",
    "\n",
    "with open(\"price_holiday_inn_london.txt.data\", \"r\") as f:\n",
    "    price_holiday_data = f.readlines()\n",
    "    \n",
    "price_holiday_data = [s.split(\"\\n\")[0] for s in price_holiday_data]\n",
    "price_holiday_target = [1] * len(price_holiday_data) \n",
    "\n",
    "data = keyboard_data + price_holiday_data\n",
    "target = keyboard_target + price_holiday_target\n",
    "\n",
    "print(data[np.random.randint(len(data))])"
   ]
  },
  {
   "cell_type": "code",
   "execution_count": 49,
   "metadata": {},
   "outputs": [
    {
     "name": "stdout",
     "output_type": "stream",
     "text": [
      "Ilość tokenów: 739\n",
      "\n",
      "Przed konwersją:\n",
      ",  I think the new keyboard rivals the great hp mini keyboards .\n",
      "\n",
      "Po konwersji:\n",
      "[0 0 0 0 0 0 0 0 0 0 0 0 0 0 0 0 0 0 0 0 0 0 0 0 0 0 0 0 0 0 0 0 0 0 0 0 0\n",
      " 0 0 0 0 0 0 0 0 0 0 0 0 0 0 0 0 0 0 0 0 0 0 0 0 0 0 0 0 0 0 0 0 0 0 0 0 0\n",
      " 0 0 0 0 0 0 0 0 0 0 0 0 0 0 0 0 0 0 0 0 0 0 0 0 0 0 0 0 0 0 0 0 0 0 0 0 0\n",
      " 0 0 0 0 0 0 0 0 0 0 0 0 0 0 0 0 0 0 0 0 0 0 0 0 0 0 0 0 0 0 0 0 0 0 0 0 0\n",
      " 0 0 0 0 0 0 0 0 0 0 0 0 0 0 0 0 0 0 0 0 0 0 0 0 0 0 0 0 0 0 0 0 0 0 0 0 0\n",
      " 0 0 0 0 0 0 0 0 0 0 0 0 0 0 0 0 0 0 0 0 0 0 0 0 0 0 0 0 0 0 0 0 0 0 0 0 0\n",
      " 0 0 0 0 0 0 0 0 0 0 0 0 0 0 0 0 0 0 0 0 0 0 0 0 0 0 0 0 0 0 0 0 0 0 0 0 0\n",
      " 0 0 0 0 0 0 0 0 0 0 0 0 0 0 0 0 0 0 0 0 0 0 0 0 0 0 0 0 0 0 0 0 0 0 0 1 0\n",
      " 0 0 0 0 0 0 0 0 0 0 0 0 0 0 0 0 0 0 0 0 0 0 0 0 0 0 0 1 0 0 0 0 0 0 0 0 0\n",
      " 0 0 0 0 0 0 0 0 0 0 0 0 0 0 0 0 0 0 2 0 0 0 0 0 0 0 0 0 0 0 0 0 0 0 0 0 0\n",
      " 0 0 0 0 0 0 0 0 0 0 0 0 0 0 0 0 0 0 0 0 0 0 0 0 0 0 0 0 0 0 0 0 0 1 0 0 0\n",
      " 0 0 0 0 0 0 0 0 0 0 0 0 0 0 0 0 0 0 0 0 0 1 0 0 0 0 0 0 0 0 0 0 0 0 0 0 0\n",
      " 0 0 0 0 0 0 0 0 0 0 0 0 0 0 0 0 0 0 0 0 0 0 0 0 0 0 0 0 0 0 0 0 0 0 0 0 0\n",
      " 0 0 0 0 0 0 0 0 0 0 0 0 0 0 0 0 0 0 0 0 0 0 0 0 0 0 0 0 0 0 0 0 0 0 0 0 0\n",
      " 0 0 0 0 0 0 0 0 0 0 0 0 0 0 0 0 0 0 0 0 0 0 0 0 0 0 0 0 0 0 1 0 0 0 0 0 0\n",
      " 0 0 0 0 0 0 0 0 0 0 0 0 0 0 0 0 0 0 0 0 0 0 0 0 0 0 0 0 0 0 0 0 0 0 0 0 0\n",
      " 0 0 0 0 0 0 0 0 0 0 0 0 0 0 0 0 0 0 0 0 0 0 0 0 0 0 0 0 0 0 0 0 0 0 0 0 0\n",
      " 0 0 0 0 0 0 0 0 0 0 0 0 0 1 0 0 0 0 0 0 0 0 0 0 0 0 0 0 0 0 0 0 0 0 0 0 0\n",
      " 0 0 0 0 0 0 0 0 0 0 0 0 0 0 0 0 0 0 0 0 0 0 0 0 0 0 0 0 0 0 0 0 0 0 0 0 0\n",
      " 0 0 0 0 0 0 0 0 0 0 0 0 0 0 0 0 0 0 0 0 0 0 0 0 0 0 0 0 0 0 0 0 0 0 0 0]\n"
     ]
    }
   ],
   "source": [
    "# Przetworzenie zbioru za pomocą CountVectorizer\n",
    "\n",
    "opinion_analyzer = CountVectorizer( stop_words=stop_words.ENGLISH_STOP_WORDS).build_analyzer()\n",
    "\n",
    "stemmer = nltk.stem.SnowballStemmer('english')\n",
    "\n",
    "def opinion_stemmed_words(doc):\n",
    "    return (stemmer.stem(w) for w in opinion_analyzer(doc))\n",
    "\n",
    "opinion_vectorizer = CountVectorizer(analyzer=opinion_stemmed_words)\n",
    "opinion_transform = opinion_vectorizer.fit_transform(data)\n",
    "opinion_counts = opinion_transform.toarray()\n",
    "\n",
    "print(\"Ilość tokenów: \" + str(len(opinion_vectorizer.get_feature_names())))\n",
    "print()\n",
    "\n",
    "# Konwersja przykładowego dokumentu\n",
    "print(\"Przed konwersją:\")\n",
    "print(data[0])\n",
    "print()\n",
    "print(\"Po konwersji:\")\n",
    "print(opinion_counts[0])"
   ]
  },
  {
   "cell_type": "code",
   "execution_count": 50,
   "metadata": {},
   "outputs": [
    {
     "data": {
      "text/plain": [
       "['00',\n",
       " '10',\n",
       " '100',\n",
       " '1005ha',\n",
       " '120',\n",
       " '15',\n",
       " '16th',\n",
       " '17',\n",
       " '17th',\n",
       " '20',\n",
       " '210',\n",
       " '250',\n",
       " '2g',\n",
       " '2the',\n",
       " '35',\n",
       " '3x',\n",
       " '47',\n",
       " '75',\n",
       " '76',\n",
       " '79',\n",
       " '8g',\n",
       " '90',\n",
       " '900',\n",
       " '92',\n",
       " 'abl',\n",
       " 'access',\n",
       " 'acclim',\n",
       " 'accommod',\n",
       " 'accomod',\n",
       " 'actual',\n",
       " 'adapt',\n",
       " 'adjust',\n",
       " 'adult',\n",
       " 'advanc',\n",
       " 'advic',\n",
       " 'affect',\n",
       " 'afford',\n",
       " 'afraid',\n",
       " 'airlin',\n",
       " 'amaz',\n",
       " 'american',\n",
       " 'angst',\n",
       " 'anniversari',\n",
       " 'anth',\n",
       " 'appal',\n",
       " 'appar',\n",
       " 'area',\n",
       " 'arrang',\n",
       " 'arriv',\n",
       " 'ask',\n",
       " 'aspect',\n",
       " 'asus',\n",
       " 'ate',\n",
       " 'attach',\n",
       " 'attract',\n",
       " 'authent',\n",
       " 'auto',\n",
       " 'avail',\n",
       " 'averag',\n",
       " 'aw',\n",
       " 'away',\n",
       " 'awesom',\n",
       " 'backspac',\n",
       " 'bad',\n",
       " 'bag',\n",
       " 'bar',\n",
       " 'bargain',\n",
       " 'base',\n",
       " 'basic',\n",
       " 'bathroom',\n",
       " 'batteri',\n",
       " 'beat',\n",
       " 'bed',\n",
       " 'believ',\n",
       " 'benefit',\n",
       " 'best',\n",
       " 'better',\n",
       " 'beverag',\n",
       " 'bid',\n",
       " 'big',\n",
       " 'biggest',\n",
       " 'bit',\n",
       " 'block',\n",
       " 'blue',\n",
       " 'board',\n",
       " 'boni',\n",
       " 'bonus',\n",
       " 'book',\n",
       " 'boot',\n",
       " 'bottl',\n",
       " 'bought',\n",
       " 'box',\n",
       " 'boyfriend',\n",
       " 'breakfast',\n",
       " 'breez',\n",
       " 'brief',\n",
       " 'briefli',\n",
       " 'bright',\n",
       " 'budget',\n",
       " 'buffet',\n",
       " 'build',\n",
       " 'button',\n",
       " 'buy',\n",
       " 'cabl',\n",
       " 'cafe',\n",
       " 'came',\n",
       " 'candl',\n",
       " 'card',\n",
       " 'care',\n",
       " 'case',\n",
       " 'cd',\n",
       " 'certain',\n",
       " 'chain',\n",
       " 'champagn',\n",
       " 'charg',\n",
       " 'charm',\n",
       " 'cheap',\n",
       " 'cheaper',\n",
       " 'check',\n",
       " 'choic',\n",
       " 'choos',\n",
       " 'citi',\n",
       " 'class',\n",
       " 'clean',\n",
       " 'cleanli',\n",
       " 'clear',\n",
       " 'click',\n",
       " 'close',\n",
       " 'closer',\n",
       " 'closet',\n",
       " 'clunki',\n",
       " 'coffe',\n",
       " 'cold',\n",
       " 'color',\n",
       " 'com',\n",
       " 'combin',\n",
       " 'combo',\n",
       " 'combort',\n",
       " 'come',\n",
       " 'comfort',\n",
       " 'comment',\n",
       " 'compani',\n",
       " 'compar',\n",
       " 'complet',\n",
       " 'comprehens',\n",
       " 'comput',\n",
       " 'concern',\n",
       " 'concierg',\n",
       " 'confus',\n",
       " 'connect',\n",
       " 'consid',\n",
       " 'consist',\n",
       " 'continent',\n",
       " 'continu',\n",
       " 'control',\n",
       " 'conveni',\n",
       " 'convent',\n",
       " 'convert',\n",
       " 'corner',\n",
       " 'correct',\n",
       " 'cost',\n",
       " 'couldn',\n",
       " 'coupl',\n",
       " 'cours',\n",
       " 'cover',\n",
       " 'cramp',\n",
       " 'crash',\n",
       " 'crossaint',\n",
       " 'cruis',\n",
       " 'dash',\n",
       " 'day',\n",
       " 'deal',\n",
       " 'decent',\n",
       " 'defin',\n",
       " 'definit',\n",
       " 'delici',\n",
       " 'depend',\n",
       " 'design',\n",
       " 'desktop',\n",
       " 'despit',\n",
       " 'did',\n",
       " 'didn',\n",
       " 'differ',\n",
       " 'dine',\n",
       " 'dinner',\n",
       " 'direct',\n",
       " 'disabl',\n",
       " 'disappoint',\n",
       " 'discount',\n",
       " 'distract',\n",
       " 'do',\n",
       " 'doesn',\n",
       " 'dollar',\n",
       " 'don',\n",
       " 'dont',\n",
       " 'doubl',\n",
       " 'doubt',\n",
       " 'dough',\n",
       " 'downsiz',\n",
       " 'drive',\n",
       " 'driver',\n",
       " 'eas',\n",
       " 'easi',\n",
       " 'easili',\n",
       " 'eat',\n",
       " 'eee',\n",
       " 'eeepc',\n",
       " 'effici',\n",
       " 'egg',\n",
       " 'elev',\n",
       " 'en',\n",
       " 'end',\n",
       " 'english',\n",
       " 'ergonom',\n",
       " 'error',\n",
       " 'especi',\n",
       " 'even',\n",
       " 'event',\n",
       " 'excel',\n",
       " 'except',\n",
       " 'exchang',\n",
       " 'execut',\n",
       " 'exept',\n",
       " 'expect',\n",
       " 'expediahotel',\n",
       " 'experi',\n",
       " 'experienc',\n",
       " 'explor',\n",
       " 'extra',\n",
       " 'extrem',\n",
       " 'eye',\n",
       " 'fabul',\n",
       " 'face',\n",
       " 'facilit',\n",
       " 'factor',\n",
       " 'fair',\n",
       " 'fall',\n",
       " 'far',\n",
       " 'fast',\n",
       " 'fasten',\n",
       " 'favorit',\n",
       " 'favourit',\n",
       " 'fear',\n",
       " 'featur',\n",
       " 'feed',\n",
       " 'feel',\n",
       " 'felt',\n",
       " 'fewer',\n",
       " 'final',\n",
       " 'fine',\n",
       " 'finger',\n",
       " 'fingerpad',\n",
       " 'finish',\n",
       " 'fit',\n",
       " 'fix',\n",
       " 'flat',\n",
       " 'flex',\n",
       " 'flexibl',\n",
       " 'flight',\n",
       " 'float',\n",
       " 'floor',\n",
       " 'floorit',\n",
       " 'flow',\n",
       " 'focus',\n",
       " 'food',\n",
       " 'foremost',\n",
       " 'format',\n",
       " 'forum',\n",
       " 'freez',\n",
       " 'fridg',\n",
       " 'friend',\n",
       " 'friendlyi',\n",
       " 'frozen',\n",
       " 'frustrat',\n",
       " 'fulli',\n",
       " 'function',\n",
       " 'funni',\n",
       " 'gap',\n",
       " 'gbp',\n",
       " 'general',\n",
       " 'generous',\n",
       " 'get',\n",
       " 'given',\n",
       " 'glass',\n",
       " 'glossi',\n",
       " 'gloucest',\n",
       " 'go',\n",
       " 'godsend',\n",
       " 'goe',\n",
       " 'good',\n",
       " 'goos',\n",
       " 'got',\n",
       " 'gotten',\n",
       " 'grab',\n",
       " 'great',\n",
       " 'guest',\n",
       " 'guid',\n",
       " 'half',\n",
       " 'halv',\n",
       " 'hand',\n",
       " 'handi',\n",
       " 'handl',\n",
       " 'happi',\n",
       " 'happier',\n",
       " 'hard',\n",
       " 'head',\n",
       " 'heat',\n",
       " 'height',\n",
       " 'help',\n",
       " 'hi',\n",
       " 'higher',\n",
       " 'hilton',\n",
       " 'histori',\n",
       " 'hit',\n",
       " 'hold',\n",
       " 'holiday',\n",
       " 'home',\n",
       " 'hope',\n",
       " 'horribl',\n",
       " 'hot',\n",
       " 'hotel',\n",
       " 'hotwir',\n",
       " 'hour',\n",
       " 'hp',\n",
       " 'huge',\n",
       " 'immedi',\n",
       " 'import',\n",
       " 'impress',\n",
       " 'inch',\n",
       " 'includ',\n",
       " 'incred',\n",
       " 'indian',\n",
       " 'inelig',\n",
       " 'initi',\n",
       " 'inlin',\n",
       " 'inn',\n",
       " 'inspit',\n",
       " 'instead',\n",
       " 'intend',\n",
       " 'interest',\n",
       " 'internet',\n",
       " 'iron',\n",
       " 'isn',\n",
       " 'issu',\n",
       " 'jean',\n",
       " 'job',\n",
       " 'juic',\n",
       " 'just',\n",
       " 'justifi',\n",
       " 'kensington',\n",
       " 'key',\n",
       " 'keyboard',\n",
       " 'kind',\n",
       " 'knowledg',\n",
       " 'laid',\n",
       " 'lan',\n",
       " 'lap',\n",
       " 'laptop',\n",
       " 'larg',\n",
       " 'larger',\n",
       " 'lastminut',\n",
       " 'late',\n",
       " 'layout',\n",
       " 'left',\n",
       " 'life',\n",
       " 'light',\n",
       " 'like',\n",
       " 'limit',\n",
       " 'line',\n",
       " 'list',\n",
       " 'littl',\n",
       " 'load',\n",
       " 'lobster',\n",
       " 'local',\n",
       " 'locat',\n",
       " 'lodg',\n",
       " 'london',\n",
       " 'long',\n",
       " 'longer',\n",
       " 'look',\n",
       " 'loos',\n",
       " 'lot',\n",
       " 'love',\n",
       " 'low',\n",
       " 'lowest',\n",
       " 'lowish',\n",
       " 'luckili',\n",
       " 'machin',\n",
       " 'main',\n",
       " 'major',\n",
       " 'make',\n",
       " 'male',\n",
       " 'mangl',\n",
       " 'market',\n",
       " 'max',\n",
       " 'meal',\n",
       " 'memori',\n",
       " 'mention',\n",
       " 'menu',\n",
       " 'metropol',\n",
       " 'milk',\n",
       " 'millennium',\n",
       " 'mind',\n",
       " 'mini',\n",
       " 'minibar',\n",
       " 'minimum',\n",
       " 'minor',\n",
       " 'minut',\n",
       " 'mistak',\n",
       " 'model',\n",
       " 'moder',\n",
       " 'modern',\n",
       " 'monday',\n",
       " 'money',\n",
       " 'monitor',\n",
       " 'mous',\n",
       " 'mousepad',\n",
       " 'move',\n",
       " 'muffin',\n",
       " 'multimedia',\n",
       " 'multipl',\n",
       " 'natur',\n",
       " 'near',\n",
       " 'nearbi',\n",
       " 'need',\n",
       " 'neighborhood',\n",
       " 'netbook',\n",
       " 'network',\n",
       " 'new',\n",
       " 'nice',\n",
       " 'nicer',\n",
       " 'night',\n",
       " 'nit',\n",
       " 'noisi',\n",
       " 'non',\n",
       " 'normal',\n",
       " 'north',\n",
       " 'northwest',\n",
       " 'note',\n",
       " 'notic',\n",
       " 'novel',\n",
       " 'number',\n",
       " 'numer',\n",
       " 'ny',\n",
       " 'offer',\n",
       " 'ok',\n",
       " 'okay',\n",
       " 'onlin',\n",
       " 'open',\n",
       " 'opinion',\n",
       " 'orang',\n",
       " 'order',\n",
       " 'origin',\n",
       " 'overal',\n",
       " 'overpric',\n",
       " 'overs',\n",
       " 'pack',\n",
       " 'packag',\n",
       " 'pad',\n",
       " 'paid',\n",
       " 'pain',\n",
       " 'pair',\n",
       " 'pancak',\n",
       " 'paper',\n",
       " 'partak',\n",
       " 'particular',\n",
       " 'pay',\n",
       " 'pc',\n",
       " 'pda',\n",
       " 'perfect',\n",
       " 'perform',\n",
       " 'permit',\n",
       " 'person',\n",
       " 'phenomen',\n",
       " 'physic',\n",
       " 'picadilli',\n",
       " 'pick',\n",
       " 'piec',\n",
       " 'place',\n",
       " 'plastic',\n",
       " 'pleasant',\n",
       " 'pleasur',\n",
       " 'plenti',\n",
       " 'plus',\n",
       " 'point',\n",
       " 'port',\n",
       " 'posh',\n",
       " 'possibl',\n",
       " 'pound',\n",
       " 'power',\n",
       " 'prefer',\n",
       " 'prepaid',\n",
       " 'press',\n",
       " 'pressur',\n",
       " 'pretti',\n",
       " 'previous',\n",
       " 'price',\n",
       " 'pricelin',\n",
       " 'problem',\n",
       " 'process',\n",
       " 'product',\n",
       " 'protrud',\n",
       " 'pub',\n",
       " 'publish',\n",
       " 'pubno',\n",
       " 'puppi',\n",
       " 'purchas',\n",
       " 'pure',\n",
       " 'push',\n",
       " 'qosmio',\n",
       " 'qualiti',\n",
       " 'quick',\n",
       " 'quit',\n",
       " 'rack',\n",
       " 'rail',\n",
       " 'rang',\n",
       " 'rate',\n",
       " 'read',\n",
       " 'real',\n",
       " 'realli',\n",
       " 'reason',\n",
       " 'receiv',\n",
       " 'recom',\n",
       " 'recommend',\n",
       " 'reduc',\n",
       " 'refund',\n",
       " 'regret',\n",
       " 'regular',\n",
       " 'relat',\n",
       " 'reliabl',\n",
       " 'remov',\n",
       " 'repair',\n",
       " 'replug',\n",
       " 'research',\n",
       " 'reserv',\n",
       " 'resolut',\n",
       " 'respect',\n",
       " 'respond',\n",
       " 'respons',\n",
       " 'rest',\n",
       " 'restaur',\n",
       " 'result',\n",
       " 'retail',\n",
       " 'return',\n",
       " 'review',\n",
       " 'rid',\n",
       " 'ridicul',\n",
       " 'right',\n",
       " 'rival',\n",
       " 'road',\n",
       " 'rom',\n",
       " 'romant',\n",
       " 'room',\n",
       " 'roomsold',\n",
       " 'rotat',\n",
       " 'rout',\n",
       " 'run',\n",
       " 'said',\n",
       " 'salmon',\n",
       " 'samsung',\n",
       " 'say',\n",
       " 'scrambl',\n",
       " 'screen',\n",
       " 'scroll',\n",
       " 'sd',\n",
       " 'season',\n",
       " 'second',\n",
       " 'select',\n",
       " 'sell',\n",
       " 'separ',\n",
       " 'serv',\n",
       " 'servic',\n",
       " 'session',\n",
       " 'set',\n",
       " 'settl',\n",
       " 'shapetip',\n",
       " 'shift',\n",
       " 'shocker',\n",
       " 'shop',\n",
       " 'short',\n",
       " 'shortcut',\n",
       " 'shower',\n",
       " 'shown',\n",
       " 'similar',\n",
       " 'simpli',\n",
       " 'singapor',\n",
       " 'sit',\n",
       " 'site',\n",
       " 'size',\n",
       " 'sleek',\n",
       " 'slid',\n",
       " 'slight',\n",
       " 'slot',\n",
       " 'small',\n",
       " 'smaller',\n",
       " 'smallish',\n",
       " 'smoke',\n",
       " 'smooth',\n",
       " 'softwar',\n",
       " 'solid',\n",
       " 'somewhat',\n",
       " 'space',\n",
       " 'speak',\n",
       " 'speaker',\n",
       " 'spectacular',\n",
       " 'speed',\n",
       " 'sporad',\n",
       " 'squint',\n",
       " 'staff',\n",
       " 'stand',\n",
       " 'standard',\n",
       " 'start',\n",
       " 'startup',\n",
       " 'starv',\n",
       " 'station',\n",
       " 'stay',\n",
       " 'std',\n",
       " 'stop',\n",
       " 'store',\n",
       " 'street',\n",
       " 'stuf',\n",
       " 'sturdi',\n",
       " 'style',\n",
       " 'stylish',\n",
       " 'suit',\n",
       " 'sum',\n",
       " 'sunday',\n",
       " 'supermarket',\n",
       " 'suppos',\n",
       " 'sure',\n",
       " 'surfac',\n",
       " 'surpris',\n",
       " 'syrup',\n",
       " 'tactil',\n",
       " 'take',\n",
       " 'tax',\n",
       " 'tea',\n",
       " 'tell',\n",
       " 'terrif',\n",
       " 'text',\n",
       " 'thai',\n",
       " 'thing',\n",
       " 'think',\n",
       " 'thought',\n",
       " 'thrill',\n",
       " 'thro',\n",
       " 'ticket',\n",
       " 'tighter',\n",
       " 'tilt',\n",
       " 'time',\n",
       " 'tini',\n",
       " 'toggl',\n",
       " 'told',\n",
       " 'took',\n",
       " 'toshiba',\n",
       " 'total',\n",
       " 'touch',\n",
       " 'touchpad',\n",
       " 'tour',\n",
       " 'tourist',\n",
       " 'touristi',\n",
       " 'track',\n",
       " 'train',\n",
       " 'transfer',\n",
       " 'tri',\n",
       " 'tripl',\n",
       " 'troubl',\n",
       " 'trough',\n",
       " 'true',\n",
       " 'tube',\n",
       " 'turn',\n",
       " 'twice',\n",
       " 'twin',\n",
       " 'type',\n",
       " 'typeabl',\n",
       " 'typist',\n",
       " 'typo',\n",
       " 'unabl',\n",
       " 'unbeat',\n",
       " 'unless',\n",
       " 'unlik',\n",
       " 'unplug',\n",
       " 'upgrad',\n",
       " 'upper',\n",
       " 'upward',\n",
       " 'usabl',\n",
       " 'usb',\n",
       " 'usd',\n",
       " 'use',\n",
       " 'useabl',\n",
       " 'usual',\n",
       " 'valu',\n",
       " 'varieti',\n",
       " 'vat',\n",
       " 've',\n",
       " 'ventil',\n",
       " 'video',\n",
       " 'view',\n",
       " 'visit',\n",
       " 'wale',\n",
       " 'walk',\n",
       " 'want',\n",
       " 'warm',\n",
       " 'warn',\n",
       " 'wasn',\n",
       " 'water',\n",
       " 'way',\n",
       " 'weak',\n",
       " 'web',\n",
       " 'websit',\n",
       " 'week',\n",
       " 'weight',\n",
       " 'white',\n",
       " 'wide',\n",
       " 'window',\n",
       " 'wireless',\n",
       " 'won',\n",
       " 'wonder',\n",
       " 'word',\n",
       " 'work',\n",
       " 'world',\n",
       " 'worri',\n",
       " 'worst',\n",
       " 'worth',\n",
       " 'wouldn',\n",
       " 'wrap',\n",
       " 'write',\n",
       " 'wrong',\n",
       " 'xmas',\n",
       " 'year',\n",
       " 'yes',\n",
       " 'yield',\n",
       " 'zoom',\n",
       " 'ł10',\n",
       " 'ł15',\n",
       " 'ł160',\n",
       " 'ł17',\n",
       " 'ł8',\n",
       " 'ł80']"
      ]
     },
     "execution_count": 50,
     "metadata": {},
     "output_type": "execute_result"
    }
   ],
   "source": [
    "opinion_vectorizer.get_feature_names()"
   ]
  },
  {
   "cell_type": "markdown",
   "metadata": {},
   "source": [
    "<h3><b>2. Tf-idf(term frequency–inverse document frequency)</b></h3>\n",
    "\n",
    "Metoda wyliczania częstości wystąpienia danego słowa, uwzględniające wyważenie wystąpięnia względem innych słów w dokumencie oraz znaczenie słowa w kontekście całego dokumentu. (Więcej na: https://en.wikipedia.org/wiki/Tf%E2%80%93idf)\n",
    "\n",
    "Wzór: \n",
    "$$(tf,idf)_{i, j} = tf_{i, j} \\times idf_i$$\n",
    "gdzie \n",
    "(term frequency)\n",
    "<br> $$tf_{i, j} = \\frac{f_{i, j}}{\\Sigma_{k}{f_{k, j}}}$$ <br>\n",
    "a idf (inverse document frequency) zależne od wybranego wariantu.\n",
    "Najczęściej wzór wygląda następująco:\n",
    "\n",
    "<br> $$tf_{i, j} = \\log{\\frac{ilość słów w dokumencie}{ilość dokumentów}}$$<br>\n",
    "\n",
    "W scikit-learn występują [TfidfTransformer](http://scikit-learn.org/stable/modules/generated/sklearn.feature_extraction.text.TfidfTransformer.html#sklearn.feature_extraction.text.TfidfTransformer) oraz [TfidfVectorizer](http://scikit-learn.org/stable/modules/generated/sklearn.feature_extraction.text.TfidfVectorizer.html#sklearn.feature_extraction.text.TfidfVectorizer) służące do konwersji dokumentu tekstowego na macierz reprezentacji tf-idf."
   ]
  },
  {
   "cell_type": "code",
   "execution_count": 51,
   "metadata": {
    "collapsed": true
   },
   "outputs": [],
   "source": [
    "# Obliczenie macierzy reprezentacji tf-idf na zbiorze tekstowym opinii\n",
    "from sklearn.feature_extraction.text import TfidfTransformer\n",
    "\n",
    "tdidf_transformer = TfidfTransformer()\n",
    "tdidf = tdidf_transformer.fit_transform(opinion_counts).toarray()"
   ]
  },
  {
   "cell_type": "code",
   "execution_count": 52,
   "metadata": {},
   "outputs": [
    {
     "name": "stdout",
     "output_type": "stream",
     "text": [
      "Dokument: \n",
      "Since the battery life difference is minimum, the only reason to upgrade would be to get the better keyboard .\n",
      "\n",
      "Wartości td-idf dla słów z dokumentu: \n",
      "\n",
      "Słowo: batteri; Td-idf: 0.33033328573263965\n",
      "Słowo: better; Td-idf: 0.3113680795635933\n",
      "Słowo: differ; Td-idf: 0.3923382984289956\n",
      "Słowo: keyboard; Td-idf: 0.13795464537735674\n",
      "Słowo: life; Td-idf: 0.33033328573263965\n",
      "Słowo: minimum; Td-idf: 0.46439624514809497\n",
      "Słowo: reason; Td-idf: 0.33033328573263965\n",
      "Słowo: upgrad; Td-idf: 0.4325100957632241\n"
     ]
    }
   ],
   "source": [
    "# Rozkład słów w wybranym dokumencie\n",
    "doc_index = 1\n",
    "\n",
    "print(\"Dokument: \")\n",
    "print(data[doc_index])\n",
    "\n",
    "# print()\n",
    "# print(\"Rozkład słów w dokumencie: \")\n",
    "# print(tdidf[doc_index])\n",
    "\n",
    "print()\n",
    "print(\"Wartości td-idf dla słów z dokumentu: \")\n",
    "print()\n",
    "for i, value in enumerate(tdidf[doc_index]):\n",
    "    if value != 0:\n",
    "        print(\"Słowo: \" + opinion_vectorizer.get_feature_names()[i] + \"; Td-idf: \" + str(value))"
   ]
  },
  {
   "cell_type": "markdown",
   "metadata": {},
   "source": [
    "<h3><b>3. Macierz odległości</b></h3>\n",
    "\n",
    "Metryka Minkowskiego: $$d_{p} = (\\sum\\limits_{i=1}^n |{x_i - y_i}|^p)^{\\frac{1}{p}}$$\n",
    "\n",
    "Metryka cosinusowa: $$similarity = cos(\\theta) = \\frac{x \\circ y}{||x|| ||y||}$$\n",
    "\n",
    "Metryki odległości dostępne są w scikit-learn: http://scikit-learn.org/stable/modules/generated/sklearn.neighbors.DistanceMetric.html"
   ]
  },
  {
   "cell_type": "code",
   "execution_count": 53,
   "metadata": {
    "collapsed": true
   },
   "outputs": [],
   "source": [
    "def display_example_metric_data(data, metric, index_a, index_b):\n",
    "    print(\"Sentence A: \" + data[index_a])\n",
    "    print(\"Sentence B: \" + data[index_b])\n",
    "    print(\"Metric: \" + str(metric[index_a][index_b]))\n",
    "    \n",
    "def display_closest_metric_data(data, metric, index, if_cos=False):\n",
    "    closest_i = -1\n",
    "    if if_cos:\n",
    "        closest_v = float(\"-inf\")\n",
    "    else:\n",
    "        closest_v = float(\"inf\")\n",
    "    for i, m_v in enumerate(metric[index]):\n",
    "        if if_cos:\n",
    "            if int(m_v) != 1 and m_v > closest_v:\n",
    "                closest_i = i\n",
    "                closest_v = m_v\n",
    "        else:\n",
    "            if m_v != 0 and m_v < closest_v:\n",
    "                closest_i = i\n",
    "                closest_v = m_v\n",
    "            \n",
    "    print(\"Sentence A: \" + data[index])\n",
    "    print(\"Closest Sentence B: \" + data[closest_i])\n",
    "    print(\"Closest Metric: \" + str(metric[index][closest_i]))\n",
    "    \n",
    "def display_furthest_metric_data(data, metric, index, if_cos=False):\n",
    "    furthest_i = -1\n",
    "    if if_cos:\n",
    "        furthest_v = float(\"inf\")\n",
    "    else:\n",
    "        furthest_v = float(\"-inf\")\n",
    "    for i, m_v in enumerate(metric[index]):\n",
    "        if if_cos:\n",
    "            if int(m_v) != 1 and m_v < furthest_v:\n",
    "                furthest_i = i\n",
    "                furthest_v = m_v\n",
    "        else:\n",
    "            if m_v != 0 and m_v > furthest_v:\n",
    "                furthest_i = i\n",
    "                furthest_v = m_v\n",
    "            \n",
    "    print(\"Sentence A: \" + data[index])\n",
    "    print(\"Furthest Sentence B: \" + data[furthest_i])\n",
    "    print(\"Furthest Metric: \" + str(metric[index][furthest_i]))"
   ]
  },
  {
   "cell_type": "markdown",
   "metadata": {},
   "source": [
    "<b>Metryka Minkowskiego</b>"
   ]
  },
  {
   "cell_type": "code",
   "execution_count": 54,
   "metadata": {},
   "outputs": [
    {
     "data": {
      "image/png": "[encoded data removed]",
      "text/plain": [
       "<matplotlib.figure.Figure at 0x1fd804d0ac8>"
      ]
     },
     "metadata": {},
     "output_type": "display_data"
    }
   ],
   "source": [
    "from sklearn.neighbors import DistanceMetric as metric\n",
    "\n",
    "dist = metric.get_metric(\"minkowski\", p=3)\n",
    "minsky = dist.pairwise(tdidf)\n",
    "\n",
    "# Histogram\n",
    "plt.hist(minsky)\n",
    "plt.show()"
   ]
  },
  {
   "cell_type": "code",
   "execution_count": 55,
   "metadata": {},
   "outputs": [
    {
     "data": {
      "text/plain": [
       "array([0.93508392, 0.93422017, 0.98371101, 0.92347066, 0.95929344,\n",
       "       0.        , 0.93022286, 0.92518286, 0.87859599, 0.92765682,\n",
       "       0.89496509, 0.92398659, 0.95107384, 1.01682142, 0.97640938,\n",
       "       0.99424015, 0.89240124, 0.95726729, 0.97760211, 0.94197042,\n",
       "       0.92677524, 0.94438652, 0.89256177, 0.95389923, 0.94277325,\n",
       "       0.95935847, 0.97794739, 0.95026405, 0.99443184, 0.99600136,\n",
       "       1.02965304, 0.97280958, 0.92598858, 0.98166804, 0.95950412,\n",
       "       1.00756128, 0.94920598, 0.89140746, 0.92346357, 0.88272074,\n",
       "       0.95565655, 0.93306964, 0.90609421, 0.93838532, 0.94280747,\n",
       "       1.03953847, 0.9038364 , 0.91091098, 0.9167503 , 0.99864041,\n",
       "       0.95933873, 0.90939297, 0.96112337, 0.97346669, 0.94819963,\n",
       "       0.98125627, 1.0232514 , 0.91724875, 0.86358022, 0.93887492,\n",
       "       0.93280153, 0.92615499, 0.97364574, 0.90423756, 0.97447908,\n",
       "       1.04152012, 0.84011146, 0.90139299, 0.91727879, 0.91389227,\n",
       "       0.99639359, 0.87946272, 0.87123136, 0.95135864, 0.9481466 ,\n",
       "       0.93735226, 0.93304113, 1.03868335, 0.93538001, 0.94175179,\n",
       "       0.93871298, 0.90562223, 0.9874647 , 0.95556035, 0.9108231 ,\n",
       "       1.00011918, 0.88540614, 0.91306978, 0.96164182, 0.99940867,\n",
       "       0.92091477, 0.91980908, 0.92406589, 0.85022732, 0.9378185 ,\n",
       "       1.02934955, 0.87822041, 0.86308577, 0.99610964, 0.96063741,\n",
       "       0.95542556, 1.00234375, 0.92748366, 0.97344496, 0.99327084,\n",
       "       0.9553329 , 0.92178389, 0.9663908 , 0.92583554, 0.90349   ,\n",
       "       0.94873089, 0.93726409, 1.02563755, 0.90423208, 0.96494767,\n",
       "       1.00248813, 0.96153318, 0.94318507, 0.92281698, 0.97761955,\n",
       "       0.96611162, 0.93482102, 1.00143583, 0.96942278, 0.93750975,\n",
       "       0.90454724, 0.92625441, 1.01219723, 0.94446857, 0.92756515,\n",
       "       0.94548591, 0.89183893, 0.99747483, 0.90213279, 0.95032547,\n",
       "       0.92270251, 0.92193536, 0.92413813, 0.99041422, 0.96224814,\n",
       "       0.94792921, 0.98163145, 0.93943378, 0.89951296, 0.94238571,\n",
       "       0.9838048 , 0.94612366, 0.91284762, 0.97943044, 0.94588419,\n",
       "       1.06638763, 0.96231247, 0.9986011 , 0.91867648, 0.94442906,\n",
       "       1.07255279, 0.931813  , 0.97620726, 0.95325041, 0.8921472 ,\n",
       "       1.0365912 , 0.94351116, 0.94784945, 1.01067269, 0.9607114 ,\n",
       "       0.91064346, 0.99578531, 0.96192574, 1.02675587, 0.99648626,\n",
       "       0.98101054, 0.97519137, 0.90832732, 0.91220389, 0.9295681 ,\n",
       "       1.01195334, 0.98867654, 0.88752045, 0.89610869, 0.89255594,\n",
       "       0.95808849, 0.92000143, 0.99906471, 0.88989324, 0.99968268,\n",
       "       0.9664685 , 0.89791942, 0.88896835, 0.96383757, 0.98149586,\n",
       "       0.93956711, 0.94799155, 1.02158476, 0.97510538, 1.0284876 ,\n",
       "       0.95728269, 0.90517328, 0.93704493, 0.95251121, 0.9125228 ,\n",
       "       0.91277681, 0.99877326, 0.97031357, 0.9432563 , 0.91080786,\n",
       "       0.95866481, 0.93594519, 0.95118412, 0.90453966, 0.93337724,\n",
       "       0.88235718, 0.96780907, 0.96319677, 0.98416285, 0.97644266,\n",
       "       0.98032577, 0.97177173, 0.87166001, 0.92515207, 0.90805249,\n",
       "       0.95144973, 0.90355683, 0.98308829, 0.90381788, 0.98866588,\n",
       "       0.97499009, 0.972348  , 0.95919654, 0.92380262, 0.95873348,\n",
       "       1.01055177, 0.92076403, 0.93849445, 0.98483159, 0.91850718,\n",
       "       1.03554792, 0.91554382, 0.93520259, 0.95066166, 1.04492035,\n",
       "       0.94285012, 0.91351375, 0.91188467, 0.94632599, 0.96865104,\n",
       "       0.92634445, 0.96000695, 0.93188975, 0.90759611, 1.0347654 ,\n",
       "       1.01244769, 0.94592962, 1.00317934, 1.09672903, 0.97806462,\n",
       "       0.95708406, 1.03125756, 0.95172382, 0.92444482, 1.0347654 ,\n",
       "       0.93381543, 0.93064805, 0.8975903 , 1.00747604, 0.97835818,\n",
       "       0.91462222, 0.94327374, 0.8514774 , 0.97315456])"
      ]
     },
     "execution_count": 55,
     "metadata": {},
     "output_type": "execute_result"
    }
   ],
   "source": [
    "minsky[5]"
   ]
  },
  {
   "cell_type": "code",
   "execution_count": 56,
   "metadata": {},
   "outputs": [
    {
     "name": "stdout",
     "output_type": "stream",
     "text": [
      "Sentence A:  At home I now have my Asus connected to my desktop's keyboard and monitor .\n",
      "Closest Sentence B:  It is a bit of a pain to unplug and replug power, monitor, LAN, wireless mouse keyboard, hard drive back, up and PDA cable, but not the end of the world .\n",
      "Closest Metric: 0.8401114620463245\n",
      "\n",
      "Sentence A:  At home I now have my Asus connected to my desktop's keyboard and monitor .\n",
      "Furthest Sentence B: Excellent hotel excellent price .\n",
      "Furthest Metric: 1.096729026710121\n"
     ]
    }
   ],
   "source": [
    "display_closest_metric_data(data, minsky, 5)\n",
    "print()\n",
    "display_furthest_metric_data(data, minsky, 5)"
   ]
  },
  {
   "cell_type": "markdown",
   "metadata": {},
   "source": [
    "<b>Metryka cosinusowa</b>"
   ]
  },
  {
   "cell_type": "code",
   "execution_count": 57,
   "metadata": {},
   "outputs": [
    {
     "data": {
      "image/png": "[encoded data removed]",
      "text/plain": [
       "<matplotlib.figure.Figure at 0x1fd8051b0f0>"
      ]
     },
     "metadata": {},
     "output_type": "display_data"
    }
   ],
   "source": [
    "cos = sklearn.metrics.pairwise.cosine_similarity(tdidf)\n",
    "\n",
    "# Histogram\n",
    "plt.hist(cos)\n",
    "plt.show()"
   ]
  },
  {
   "cell_type": "code",
   "execution_count": 58,
   "metadata": {},
   "outputs": [
    {
     "data": {
      "image/png": "[encoded data removed]",
      "text/plain": [
       "<matplotlib.figure.Figure at 0x1fd81306cf8>"
      ]
     },
     "metadata": {},
     "output_type": "display_data"
    }
   ],
   "source": [
    "plt.hist(cos[1])\n",
    "plt.show()"
   ]
  },
  {
   "cell_type": "code",
   "execution_count": 59,
   "metadata": {},
   "outputs": [
    {
     "data": {
      "text/plain": [
       "array([0.03726106, 1.        , 0.02505403, 0.01755142, 0.02283806,\n",
       "       0.01993177, 0.018157  , 0.01442398, 0.18813098, 0.21183189,\n",
       "       0.01466381, 0.01765579, 0.01913961, 0.04362922, 0.02430726,\n",
       "       0.01784952, 0.01208419, 0.02374094, 0.02592771, 0.01795738,\n",
       "       0.03624685, 0.02243594, 0.02816244, 0.02101848, 0.02098838,\n",
       "       0.02236503, 0.02196021, 0.02150766, 0.02761842, 0.02550872,\n",
       "       0.0326405 , 0.02267299, 0.01759878, 0.02402789, 0.02161539,\n",
       "       0.03024873, 0.02114538, 0.01206551, 0.01652618, 0.01682534,\n",
       "       0.02476158, 0.23122232, 0.18380437, 0.02035787, 0.0114176 ,\n",
       "       0.03337233, 0.21384005, 0.01408034, 0.09730889, 0.02727986,\n",
       "       0.02149075, 0.01350885, 0.0212617 , 0.23072476, 0.01999935,\n",
       "       0.02951316, 0.03750134, 0.01765043, 0.01445645, 0.01212578,\n",
       "       0.01663568, 0.01031404, 0.0262558 , 0.01421829, 0.02588246,\n",
       "       0.03378783, 0.01116569, 0.01361312, 0.01396983, 0.25976775,\n",
       "       0.02838327, 0.04595325, 0.01919188, 0.02086365, 0.01950501,\n",
       "       0.01776051, 0.01741805, 0.02510173, 0.02020147, 0.01698281,\n",
       "       0.03846884, 0.01635686, 0.03507427, 0.02398759, 0.0146554 ,\n",
       "       0.16999006, 0.14626362, 0.01381977, 0.02299947, 0.03273796,\n",
       "       0.0352187 , 0.0169287 , 0.01379148, 0.12125265, 0.01824335,\n",
       "       0.0311155 , 0.01753259, 0.01461   , 0.02331997, 0.02339454,\n",
       "       0.01924023, 0.02738494, 0.01849538, 0.02290285, 0.03209847,\n",
       "       0.01984475, 0.016797  , 0.03409446, 0.22216093, 0.01337943,\n",
       "       0.0194472 , 0.02066788, 0.04009973, 0.01309177, 0.02404516,\n",
       "       0.02679875, 0.02398621, 0.01911552, 0.01581955, 0.02813347,\n",
       "       0.02363215, 0.01892929, 0.02765287, 0.02771075, 0.01903666,\n",
       "       0.01396163, 0.0860481 , 0.        , 0.        , 0.        ,\n",
       "       0.11108949, 0.        , 0.19695161, 0.        , 0.        ,\n",
       "       0.        , 0.        , 0.        , 0.        , 0.        ,\n",
       "       0.        , 0.        , 0.12218442, 0.        , 0.        ,\n",
       "       0.        , 0.        , 0.07463543, 0.        , 0.        ,\n",
       "       0.        , 0.        , 0.        , 0.0810741 , 0.10191788,\n",
       "       0.        , 0.        , 0.        , 0.        , 0.        ,\n",
       "       0.        , 0.        , 0.        , 0.        , 0.        ,\n",
       "       0.        , 0.        , 0.        , 0.        , 0.        ,\n",
       "       0.        , 0.        , 0.07668557, 0.        , 0.16501869,\n",
       "       0.        , 0.14002136, 0.        , 0.        , 0.        ,\n",
       "       0.        , 0.        , 0.        , 0.        , 0.        ,\n",
       "       0.        , 0.        , 0.        , 0.        , 0.        ,\n",
       "       0.        , 0.        , 0.        , 0.        , 0.        ,\n",
       "       0.12636865, 0.        , 0.        , 0.        , 0.        ,\n",
       "       0.        , 0.        , 0.        , 0.        , 0.        ,\n",
       "       0.        , 0.        , 0.        , 0.0765016 , 0.        ,\n",
       "       0.        , 0.        , 0.        , 0.        , 0.        ,\n",
       "       0.        , 0.        , 0.        , 0.        , 0.08951762,\n",
       "       0.        , 0.        , 0.        , 0.        , 0.        ,\n",
       "       0.        , 0.        , 0.        , 0.08016434, 0.        ,\n",
       "       0.        , 0.08251436, 0.        , 0.        , 0.12910612,\n",
       "       0.        , 0.        , 0.        , 0.        , 0.        ,\n",
       "       0.        , 0.        , 0.        , 0.11515458, 0.        ,\n",
       "       0.        , 0.        , 0.17155382, 0.        , 0.        ,\n",
       "       0.        , 0.        , 0.19602867, 0.        , 0.        ,\n",
       "       0.1359497 , 0.19810213, 0.        , 0.        , 0.        ,\n",
       "       0.        , 0.        , 0.        , 0.        , 0.        ,\n",
       "       0.09088821, 0.        , 0.        , 0.        ])"
      ]
     },
     "execution_count": 59,
     "metadata": {},
     "output_type": "execute_result"
    }
   ],
   "source": [
    "cos[1]"
   ]
  },
  {
   "cell_type": "code",
   "execution_count": 60,
   "metadata": {},
   "outputs": [
    {
     "name": "stdout",
     "output_type": "stream",
     "text": [
      "Sentence A: Since the battery life difference is minimum, the only reason to upgrade would be to get the better keyboard .\n",
      "Closest Sentence B:  Great battery life, decent sized screen, and the keyboard was large enough to be comfortable to type on .\n",
      "Closest Metric: 0.2597677455264713\n",
      "\n",
      "Sentence A: Since the battery life difference is minimum, the only reason to upgrade would be to get the better keyboard .\n",
      "Furthest Sentence B: Great Price Terrific Location .\n",
      "Furthest Metric: 0.0\n"
     ]
    }
   ],
   "source": [
    "display_closest_metric_data(data, cos, 1, True)\n",
    "print()\n",
    "display_furthest_metric_data(data, cos, 1, True)"
   ]
  },
  {
   "cell_type": "markdown",
   "metadata": {},
   "source": [
    "<h3><b>4. K-NN</b></h3>\n",
    "\n",
    "<br> K-NN(k-nearest neighbors algorithm) - algorytm wykorzystywany do klasyfikacji i regresji polegający na przydzieleniu punktu do danej klasy, bazując na k najbliższych sąsiadach tego punktu. <br> \n",
    "(Więcej na: https://en.wikipedia.org/wiki/K-nearest_neighbors_algorithm)\n",
    "\n",
    "Do wizualizacji danych została wykorzystana metoda PCA(principal component analysis) w celu zmniejszenia rozmiaru zbioru danych. Więcej na jej temat na innych laboratoriach.\n",
    "\n",
    "Scikit-learn i KNN: http://scikit-learn.org/stable/modules/generated/sklearn.neighbors.KNeighborsClassifier.html#sklearn.neighbors.KNeighborsClassifier\n",
    "\n",
    "<b>Algorytm KNN dla zbioru tekstowego</b>"
   ]
  },
  {
   "cell_type": "code",
   "execution_count": 61,
   "metadata": {},
   "outputs": [
    {
     "data": {
      "image/png": "[encoded data removed]",
      "text/plain": [
       "<matplotlib.figure.Figure at 0x1fd81a61c88>"
      ]
     },
     "metadata": {},
     "output_type": "display_data"
    }
   ],
   "source": [
    "from sklearn.decomposition import PCA\n",
    "# target: 0 - keyboard; 1 - price holiday\n",
    "\n",
    "with open(\"keyboard_netbook_1005ha.txt.data\", \"r\") as f:\n",
    "    keyboard_data = f.readlines()\n",
    "    \n",
    "keyboard_data = [s.split(\"\\n\")[0] for s in keyboard_data]\n",
    "keyboard_target = [0] * len(keyboard_data)\n",
    "X_keyboard_train, X_keyboard_test, y_keyboard_train, y_keyboard_test = train_test_split(keyboard_data, keyboard_target, test_size=0.2)\n",
    "\n",
    "with open(\"price_holiday_inn_london.txt.data\", \"r\") as f:\n",
    "    price_holiday_data = f.readlines()\n",
    "    \n",
    "price_holiday_data = [s.split(\"\\n\")[0] for s in price_holiday_data]\n",
    "price_holiday_target = [1] * len(price_holiday_data) \n",
    "X_price_holiday_train, X_price_holiday_test, y_price_holiday_train, y_price_holiday_test = train_test_split(price_holiday_data, price_holiday_target, test_size=0.2)\n",
    "\n",
    "X_train = X_keyboard_train + X_price_holiday_train\n",
    "y_train = y_keyboard_train + y_price_holiday_train\n",
    "\n",
    "X_test = X_keyboard_test + X_price_holiday_test\n",
    "y_test = y_keyboard_test + y_price_holiday_test\n",
    "\n",
    "opinion_analyzer = CountVectorizer(stop_words=stop_words.ENGLISH_STOP_WORDS).build_analyzer()\n",
    "\n",
    "stemmer = nltk.stem.SnowballStemmer('english')\n",
    "\n",
    "def opinion_stemmed_words(doc):\n",
    "    return (stemmer.stem(w) for w in opinion_analyzer(doc))\n",
    "\n",
    "opinion_vectorizer = CountVectorizer(analyzer=opinion_stemmed_words)\n",
    "tdidf_transformer = TfidfTransformer()\n",
    "X_train = tdidf_transformer.fit_transform(opinion_vectorizer.fit_transform(X_train).toarray()).toarray()\n",
    "X_train_pca = PCA(n_components=2).fit(X_train)\n",
    "X_train_data2D = X_train_pca.transform(X_train)\n",
    "\n",
    "X_test = tdidf_transformer.fit_transform(opinion_vectorizer.fit_transform(X_test).toarray()).toarray()\n",
    "X_test_pca = PCA(n_components=2).fit(X_test)\n",
    "X_test_data2D = X_test_pca.transform(X_test)\n",
    "\n",
    "plt.scatter(X_train_data2D[:, 0], X_train_data2D[:, 1], c=y_train)\n",
    "plt.show()"
   ]
  },
  {
   "cell_type": "code",
   "execution_count": 62,
   "metadata": {},
   "outputs": [
    {
     "data": {
      "image/png": "[encoded data removed]",
      "text/plain": [
       "<matplotlib.figure.Figure at 0x1fd84c9d1d0>"
      ]
     },
     "metadata": {},
     "output_type": "display_data"
    }
   ],
   "source": [
    "plt.scatter(X_test_data2D[:, 0], X_test_data2D[:, 1], c=y_test)\n",
    "plt.show()"
   ]
  },
  {
   "cell_type": "code",
   "execution_count": 63,
   "metadata": {
    "collapsed": true
   },
   "outputs": [],
   "source": [
    "from sklearn.neighbors import KNeighborsClassifier\n",
    "classifier = KNeighborsClassifier(n_neighbors=15, metric=\"cosine\")  \n",
    "classifier.fit(X_train_data2D, y_train)\n",
    "\n",
    "y_pred = classifier.predict(X_test_data2D)"
   ]
  },
  {
   "cell_type": "code",
   "execution_count": 64,
   "metadata": {},
   "outputs": [
    {
     "name": "stdout",
     "output_type": "stream",
     "text": [
      "[0 0 0 0 0 0 0 0 0 0 0 0 0 0 0 0 0 0 0 0 0 0 0 0 0 0 1 1 1 1 1 1 1 1 1 1 1\n",
      " 1 1 1 1 1 1 1 1 1 1 1 1 1 1 1 1 1 1]\n",
      "[0, 0, 0, 0, 0, 0, 0, 0, 0, 0, 0, 0, 0, 0, 0, 0, 0, 0, 0, 0, 0, 0, 0, 0, 0, 0, 1, 1, 1, 1, 1, 1, 1, 1, 1, 1, 1, 1, 1, 1, 1, 1, 1, 1, 1, 1, 1, 1, 1, 1, 1, 1, 1, 1, 1]\n"
     ]
    }
   ],
   "source": [
    "print(y_pred)\n",
    "print(y_test)"
   ]
  },
  {
   "cell_type": "code",
   "execution_count": 65,
   "metadata": {},
   "outputs": [
    {
     "name": "stdout",
     "output_type": "stream",
     "text": [
      "1.0\n"
     ]
    }
   ],
   "source": [
    "cor = len([i for p, t in zip(y_pred, y_test) if p == t])\n",
    "accuracy = cor / len(y_pred)\n",
    "print(accuracy)"
   ]
  },
  {
   "cell_type": "markdown",
   "metadata": {},
   "source": [
    "<b>Algorytm KNN dla zbioru MNIST</b>\n",
    "\n",
    "[StandardScaler](http://scikit-learn.org/stable/modules/generated/sklearn.preprocessing.StandardScaler.html) - normalizuje dane i skaluje je do wartości unarnych."
   ]
  },
  {
   "cell_type": "code",
   "execution_count": 66,
   "metadata": {
    "collapsed": true
   },
   "outputs": [],
   "source": [
    "from sklearn.datasets import fetch_openml\n",
    "\n",
    "# Load data from https://www.openml.org/d/554\n",
    "X_mnist, y_mnist = fetch_openml('mnist_784', version=1, return_X_y=True)"
   ]
  },
  {
   "cell_type": "code",
   "execution_count": 67,
   "metadata": {
    "collapsed": true
   },
   "outputs": [],
   "source": [
    "# metryka euklidesowa\n",
    "from sklearn.linear_model import LogisticRegression\n",
    "from sklearn.model_selection import train_test_split\n",
    "from sklearn.preprocessing import StandardScaler\n",
    "\n",
    "X_mnist_train, X_mnist_test, y_mnist_train, y_mnist_test = train_test_split(X_mnist, y_mnist, train_size=5000, test_size=2000)\n",
    "\n",
    "scaler = StandardScaler()\n",
    "X_mnist_train = scaler.fit_transform(X_mnist_train)\n",
    "X_mnist_test = scaler.transform(X_mnist_test)\n",
    "\n",
    "classifier = KNeighborsClassifier(n_neighbors=15, metric=\"minkowski\", p=2)  \n",
    "classifier.fit(X_mnist_train, y_mnist_train)\n",
    "\n",
    "y_mnist_pred = classifier.predict(X_mnist_test)"
   ]
  },
  {
   "cell_type": "code",
   "execution_count": 68,
   "metadata": {},
   "outputs": [
    {
     "name": "stdout",
     "output_type": "stream",
     "text": [
      "['9' '1' '8' ... '7' '3' '7']\n",
      "['9' '1' '8' ... '7' '3' '7']\n"
     ]
    }
   ],
   "source": [
    "print(y_mnist_pred)\n",
    "print(y_mnist_test)"
   ]
  },
  {
   "cell_type": "code",
   "execution_count": 69,
   "metadata": {},
   "outputs": [
    {
     "name": "stdout",
     "output_type": "stream",
     "text": [
      "0.8875\n"
     ]
    }
   ],
   "source": [
    "mnist_minki_cor = len([i for p, t in zip(y_mnist_pred, y_mnist_test) if p == t])\n",
    "mnist_minki_accuracy = mnist_minki_cor / len(y_mnist_pred)\n",
    "print(mnist_minki_accuracy)"
   ]
  },
  {
   "cell_type": "code",
   "execution_count": 70,
   "metadata": {},
   "outputs": [
    {
     "name": "stdout",
     "output_type": "stream",
     "text": [
      "0.8925\n"
     ]
    }
   ],
   "source": [
    "# metryka cosinusowa\n",
    "from sklearn.model_selection import train_test_split\n",
    "from sklearn.preprocessing import StandardScaler\n",
    "\n",
    "X_mnist_train, X_mnist_test, y_mnist_train, y_mnist_test = train_test_split(X_mnist, y_mnist, train_size=5000, test_size=2000)\n",
    "\n",
    "scaler = StandardScaler()\n",
    "X_mnist_train = scaler.fit_transform(X_mnist_train)\n",
    "X_mnist_test = scaler.transform(X_mnist_test)\n",
    "\n",
    "classifier = KNeighborsClassifier(n_neighbors=15, metric=\"cosine\")  \n",
    "classifier.fit(X_mnist_train, y_mnist_train)\n",
    "\n",
    "y_mnist_pred = classifier.predict(X_mnist_test)\n",
    "\n",
    "mnist_cos_cor = len([i for p, t in zip(y_mnist_pred, y_mnist_test) if p == t])\n",
    "mnist_cos_accuracy = mnist_cos_cor / len(y_mnist_pred)\n",
    "print(mnist_cos_accuracy)"
   ]
  },
  {
   "cell_type": "markdown",
   "metadata": {
    "collapsed": true
   },
   "source": [
    "<b>Trick kernelowy</b>\n",
    "\n",
    "![kernel_trick](0_ngkO1BblQXnOTcmr.png)\n",
    "\n",
    "<b>Rozwiązanie problemu klasyfikacji:</b> dane nie są rozdzielne liniowo w przestrzeni o danym wymiarze, ale mogą być w przestrzeni o wyższym wymiarze.  Nie są liczone współrzędne punktów w wyższym wymiarze, jedynie iloczyny skalarne pomiędzy parami."
   ]
  },
  {
   "cell_type": "markdown",
   "metadata": {},
   "source": [
    "<h3><b>5. Normalizacja KNN </b></h3>\n",
    "\n",
    "Normalizacja sprawia, że cecha/zmienna uzyskuje odcyhlenie standardowe równe 1. Jest ona potrzebna, gdy wartości danych dużo się różnią lub gdy wartości dla jednej cechy mają dużo większy zasięg, niż pozostałych, ponieważ wtedy bez skalowania wartości tej cechy wartości pozostałych zostałyby zdominowane. Więcej na: https://en.wikipedia.org/wiki/Feature_scaling#Standardization\n",
    "\n"
   ]
  },
  {
   "cell_type": "markdown",
   "metadata": {
    "collapsed": true
   },
   "source": [
    "<h3><b>Zadanie</b></h3>\n",
    "1. Dokonać normalizacji wybranego zbioru np. https://archive.ics.uci.edu/ml/datasets/breast+cancer+wisconsin+(original)\n",
    "2. Zaimplementować KNN dla tego zbioru(można skorzystać z metody dostępnej w scikit-learnie).\n",
    "2. Wygenerować losowo dodatkowe wymiary i przedstawić wykresy odległości dla różnych wartości p(dla metryki Minkowskiego) oraz różnej ilości dogenerowanych wymiarów np. dogenerowane wymiary: 2, 10, 100.\n",
    "\n",
    "<h3><b>Zadania pomocnicze</b></h3>\n",
    "1. Obliczyć tf-idf dla zbioru 20newsgroups.\n",
    "2. Zaimplementowanie KNN dla drugiego zbioru tekstowego lub Znalezienie zbioru tekstowego w internecie i zaimplementowanie dla niego KNN."
   ]
  }
 ],
 "metadata": {
  "kernelspec": {
   "display_name": "Python 3",
   "language": "python",
   "name": "python3"
  },
  "language_info": {
   "codemirror_mode": {
    "name": "ipython",
    "version": 3
   },
   "file_extension": ".py",
   "mimetype": "text/x-python",
   "name": "python",
   "nbconvert_exporter": "python",
   "pygments_lexer": "ipython3",
   "version": "3.6.3"
  }
 },
 "nbformat": 4,
 "nbformat_minor": 2
}
